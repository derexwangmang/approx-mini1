{
  "nbformat": 4,
  "nbformat_minor": 0,
  "metadata": {
    "colab": {
      "provenance": [],
      "toc_visible": true,
      "include_colab_link": true
    },
    "kernelspec": {
      "name": "python3",
      "display_name": "Python 3"
    },
    "language_info": {
      "name": "python"
    }
  },
  "cells": [
    {
      "cell_type": "markdown",
      "metadata": {
        "id": "view-in-github",
        "colab_type": "text"
      },
      "source": [
        "<a href=\"https://colab.research.google.com/github/derexwangmang/approx-mini1/blob/main/Approx_Mini_1.ipynb\" target=\"_parent\"><img src=\"https://colab.research.google.com/assets/colab-badge.svg\" alt=\"Open In Colab\"/></a>"
      ]
    },
    {
      "cell_type": "markdown",
      "source": [
        "# Approximation Algorithms Mini Project 1"
      ],
      "metadata": {
        "id": "v8gznOlmGTB5"
      }
    },
    {
      "cell_type": "markdown",
      "source": [
        "## Introduction"
      ],
      "metadata": {
        "id": "1f7Wj_1lGbr4"
      }
    },
    {
      "cell_type": "markdown",
      "source": [
        "This is our mini-project on bin packing for the algorithms first fit, best fit, and their sorted versions. These are motivated by problems that exist in the real world, such as optimally placing items in storage trucks to require the least number of trucks.\n",
        "\n",
        "We empirically validated our results on datasets with 10000 datapoints each. We created three synthetic datasets with probability distributions. These are:\n",
        "\n",
        "\n",
        "*   Uniform distribution: [0, 1]\n",
        "*   Left-tailed: 0.75 probability [0, 0.25], 0.25 probability [0.75, 1]\n",
        "*   Right-tailed: 0.25 probability [0, 0.75], 0.25 probability [0.75, 1]\n",
        "\n"
      ],
      "metadata": {
        "id": "8J3isRjpG_ve"
      }
    },
    {
      "cell_type": "markdown",
      "source": [
        "## Results"
      ],
      "metadata": {
        "id": "E2-hPExsGiY7"
      }
    },
    {
      "cell_type": "code",
      "execution_count": null,
      "metadata": {
        "colab": {
          "base_uri": "https://localhost:8080/"
        },
        "id": "3RAOnq_6RFxx",
        "outputId": "30cbd16f-3a96-4cf5-8f50-690d10c82b48"
      },
      "outputs": [
        {
          "output_type": "stream",
          "name": "stdout",
          "text": [
            "Cloning into 'approx-mini1'...\n",
            "remote: Enumerating objects: 131, done.\u001b[K\n",
            "remote: Counting objects: 100% (131/131), done.\u001b[K\n",
            "remote: Compressing objects: 100% (103/103), done.\u001b[K\n",
            "remote: Total 131 (delta 34), reused 120 (delta 27), pack-reused 0\u001b[K\n",
            "Receiving objects: 100% (131/131), 712.19 KiB | 20.35 MiB/s, done.\n",
            "Resolving deltas: 100% (34/34), done.\n"
          ]
        }
      ],
      "source": [
        "!rm -r /content/approx-mini1\n",
        "!cd /content && git clone https://github.com/derexwangmang/approx-mini1"
      ]
    },
    {
      "cell_type": "code",
      "source": [
        "# this \"magic\" command makes graphics produced by matplotlib appear in the notebook.\n",
        "%matplotlib inline\n",
        "\n",
        "# make sure we're in the right directory\n",
        "%cd /content/\n",
        "\n",
        "import csv\n",
        "import matplotlib.pyplot as plt\n",
        "from tabulate import tabulate"
      ],
      "metadata": {
        "colab": {
          "base_uri": "https://localhost:8080/"
        },
        "id": "YarJlOyeUsk5",
        "outputId": "fd3413eb-73db-4aa7-b0f7-71b9ec4adfa4"
      },
      "execution_count": null,
      "outputs": [
        {
          "output_type": "stream",
          "name": "stdout",
          "text": [
            "/content\n"
          ]
        }
      ]
    },
    {
      "cell_type": "markdown",
      "source": [
        "## Graphs"
      ],
      "metadata": {
        "id": "4xhDqbFyUR8y"
      }
    },
    {
      "cell_type": "markdown",
      "source": [
        "### Uniform Item Distribution"
      ],
      "metadata": {
        "id": "bMUB5rz3E25v"
      }
    },
    {
      "cell_type": "code",
      "source": [
        "%cd /content/approx-mini1/random_10000\n",
        "\n",
        "with open('data.csv', newline = '') as file:\n",
        "    reader = csv.reader(file, quoting = csv.QUOTE_NONNUMERIC)\n",
        "    data = []\n",
        "    for row in reader:\n",
        "        data.append(row[:])\n",
        "\n",
        "plt.hist(data)\n",
        "plt.xlabel(\"Item Sizes\")\n",
        "plt.ylabel(\"Frequency\")\n",
        "plt.title(\"Distribution of Items\")\n",
        "plt.show()"
      ],
      "metadata": {
        "colab": {
          "base_uri": "https://localhost:8080/",
          "height": 313
        },
        "id": "BtB0fRyeUnr4",
        "outputId": "bf86c494-93fe-4858-84b3-37ef5aa8ca2a"
      },
      "execution_count": null,
      "outputs": [
        {
          "output_type": "stream",
          "name": "stdout",
          "text": [
            "/content/approx-mini1/random_10000\n"
          ]
        },
        {
          "output_type": "display_data",
          "data": {
            "text/plain": [
              "<Figure size 432x288 with 1 Axes>"
            ],
            "image/png": "[encoded data removed]"
          },
          "metadata": {
            "needs_background": "light"
          }
        }
      ]
    },
    {
      "cell_type": "code",
      "source": [
        "with open('best_fit.csv', newline = '') as file:\n",
        "    reader = csv.reader(file, quoting = csv.QUOTE_NONNUMERIC)\n",
        "    best_fit = []\n",
        "    for row in reader:\n",
        "      if row[:]:\n",
        "        best_fit.append(row[:])\n",
        "\n",
        "with open('first_fit.csv', newline = '') as file:\n",
        "    reader = csv.reader(file, quoting = csv.QUOTE_NONNUMERIC)\n",
        "    first_fit = []\n",
        "    for row in reader:\n",
        "      if row[:]:\n",
        "        first_fit.append(row[:])\n",
        "\n",
        "with open('sorted_best_fit.csv', newline = '') as file:\n",
        "    reader = csv.reader(file, quoting = csv.QUOTE_NONNUMERIC)\n",
        "    sorted_best_fit = []\n",
        "    for row in reader:\n",
        "      if row[:]:\n",
        "        sorted_best_fit.append(row[:])\n",
        "\n",
        "with open('sorted_first_fit.csv', newline = '') as file:\n",
        "    reader = csv.reader(file, quoting = csv.QUOTE_NONNUMERIC)\n",
        "    sorted_first_fit = []\n",
        "    for row in reader:\n",
        "      if row[:]:\n",
        "        sorted_first_fit.append(row[:])\n",
        "\n",
        "fig, ax = plt.subplots(nrows=2, ncols=2)\n",
        "fig.suptitle(\"Bin Distribution\")\n",
        "\n",
        "ax[0,0].hist(best_fit[0], range=(0, 1))\n",
        "ax[0,0].set_title('Best Fit')\n",
        "ax[0,1].hist(first_fit[0], range=(0, 1))\n",
        "ax[0,1].set_title('First Fit')\n",
        "ax[1,0].hist(sorted_best_fit[0], range=(0, 1))\n",
        "ax[1,0].set_title('Sorted Best Fit')\n",
        "ax[1,1].hist(sorted_first_fit[0], range=(0, 1))\n",
        "ax[1,1].set_title('Sorted First Fit')\n",
        "\n",
        "plt.xlabel(\"Bin Sizing\")\n",
        "plt.ylabel(\"Frequency\")\n",
        "plt.tight_layout()\n",
        "plt.show()"
      ],
      "metadata": {
        "colab": {
          "base_uri": "https://localhost:8080/",
          "height": 302
        },
        "id": "2n25H20acDkB",
        "outputId": "048e02c0-f9ce-4df3-8a03-195d35b21bf9"
      },
      "execution_count": null,
      "outputs": [
        {
          "output_type": "display_data",
          "data": {
            "text/plain": [
              "<Figure size 432x288 with 4 Axes>"
            ],
            "image/png": "[encoded data removed]"
          },
          "metadata": {
            "needs_background": "light"
          }
        }
      ]
    },
    {
      "cell_type": "code",
      "source": [
        "def find_median(arr):\n",
        "  arr.sort()\n",
        "  x = len(arr)/2\n",
        "  if len(arr)%2==0:\n",
        "    return (arr[len(arr)//2] + arr[len(arr)//2+1]) / 2\n",
        "  else:\n",
        "    return arr[len(arr)//2]\n",
        "\n",
        "def find_mean(arr):\n",
        "  sumo = 0\n",
        "  for i in arr:\n",
        "    sumo += i\n",
        "  return sumo/len(arr)\n",
        "\n",
        "table = [[\"Algorithm\", \"# of Bins\", \"Time (ms)\", \"Median Bin Weight\", \"Mean Bin Weight\"],\n",
        "         [\"Best Fit\", str(int(best_fit[1][0])), str(float(best_fit[2][0])), str(find_median(best_fit[0])), str(find_mean(best_fit[0]))],\n",
        "         [\"First Fit\", str(int(first_fit[1][0])), str(float(first_fit[2][0])), str(find_median(first_fit[0])), str(find_mean(first_fit[0]))],\n",
        "         [\"Sorted Best Fit\", str(int(sorted_best_fit[1][0])), str(float(sorted_best_fit[2][0])), str(find_median(sorted_best_fit[0])), str(find_mean(sorted_best_fit[0]))],\n",
        "         [\"Sorted First Fit\", str(int(sorted_first_fit[1][0])), str(float(sorted_first_fit[2][0])), str(find_median(sorted_first_fit[0])), str(find_mean(sorted_first_fit[0]))]]\n",
        "\n",
        "print(tabulate(table, headers='firstrow'))"
      ],
      "metadata": {
        "id": "MJzfdWYDfSu9",
        "colab": {
          "base_uri": "https://localhost:8080/"
        },
        "outputId": "b7b0dc57-bc05-41ac-b643-07ac5bce1410"
      },
      "execution_count": null,
      "outputs": [
        {
          "output_type": "stream",
          "name": "stdout",
          "text": [
            "Algorithm           # of Bins    Time (ms)    Median Bin Weight    Mean Bin Weight\n",
            "----------------  -----------  -----------  -------------------  -----------------\n",
            "Best Fit                 5087      1206.29             0.99695            0.981885\n",
            "First Fit                5139      1095.82             0.990475           0.97195\n",
            "Sorted Best Fit          5025      1780.4              0.999893           0.994\n",
            "Sorted First Fit         5025      1176.07             0.999885           0.994\n"
          ]
        }
      ]
    },
    {
      "cell_type": "markdown",
      "source": [
        "### Left Tailed Distribution"
      ],
      "metadata": {
        "id": "ignhAi74E8-x"
      }
    },
    {
      "cell_type": "code",
      "source": [
        "%cd /content/approx-mini1/left_tailed_10000\n",
        "\n",
        "with open('data.csv', newline = '') as file:\n",
        "    reader = csv.reader(file, quoting = csv.QUOTE_NONNUMERIC)\n",
        "    data = []\n",
        "    for row in reader:\n",
        "        data.append(row[:])\n",
        "\n",
        "plt.hist(data)\n",
        "plt.xlabel(\"Item Sizing\")\n",
        "plt.ylabel(\"Frequency\")\n",
        "plt.title(\"Distribution of Items\")\n",
        "plt.show()"
      ],
      "metadata": {
        "id": "2Of6e_0wD9X5",
        "colab": {
          "base_uri": "https://localhost:8080/",
          "height": 313
        },
        "outputId": "7e83c295-67a3-4b07-c113-1ec95735dce6"
      },
      "execution_count": null,
      "outputs": [
        {
          "output_type": "stream",
          "name": "stdout",
          "text": [
            "/content/approx-mini1/left_tailed_10000\n"
          ]
        },
        {
          "output_type": "display_data",
          "data": {
            "text/plain": [
              "<Figure size 432x288 with 1 Axes>"
            ],
            "image/png": "[encoded data removed]"
          },
          "metadata": {
            "needs_background": "light"
          }
        }
      ]
    },
    {
      "cell_type": "code",
      "source": [
        "with open('best_fit.csv', newline = '') as file:\n",
        "    reader = csv.reader(file, quoting = csv.QUOTE_NONNUMERIC)\n",
        "    best_fit = []\n",
        "    for row in reader:\n",
        "      if row[:]:\n",
        "        best_fit.append(row[:])\n",
        "\n",
        "with open('first_fit.csv', newline = '') as file:\n",
        "    reader = csv.reader(file, quoting = csv.QUOTE_NONNUMERIC)\n",
        "    first_fit = []\n",
        "    for row in reader:\n",
        "      if row[:]:\n",
        "        first_fit.append(row[:])\n",
        "\n",
        "with open('sorted_best_fit.csv', newline = '') as file:\n",
        "    reader = csv.reader(file, quoting = csv.QUOTE_NONNUMERIC)\n",
        "    sorted_best_fit = []\n",
        "    for row in reader:\n",
        "      if row[:]:\n",
        "        sorted_best_fit.append(row[:])\n",
        "\n",
        "with open('sorted_first_fit.csv', newline = '') as file:\n",
        "    reader = csv.reader(file, quoting = csv.QUOTE_NONNUMERIC)\n",
        "    sorted_first_fit = []\n",
        "    for row in reader:\n",
        "      if row[:]:\n",
        "        sorted_first_fit.append(row[:])\n",
        "\n",
        "fig, ax = plt.subplots(nrows=2, ncols=2)\n",
        "fig.suptitle(\"Bin Distribution\")\n",
        "\n",
        "ax[0,0].hist(best_fit[0], range=(0, 1))\n",
        "ax[0,0].set_title('Best Fit')\n",
        "ax[0,1].hist(first_fit[0], range=(0, 1))\n",
        "ax[0,1].set_title('First Fit')\n",
        "ax[1,0].hist(sorted_best_fit[0], range=(0, 1))\n",
        "ax[1,0].set_title('Sorted Best Fit')\n",
        "ax[1,1].hist(sorted_first_fit[0], range=(0, 1))\n",
        "ax[1,1].set_title('Sorted First Fit')\n",
        "\n",
        "plt.xlabel(\"Bin Sizing\")\n",
        "plt.ylabel(\"Frequency\")\n",
        "plt.tight_layout()\n",
        "plt.show()"
      ],
      "metadata": {
        "colab": {
          "base_uri": "https://localhost:8080/",
          "height": 302
        },
        "id": "ak0qecurFAJO",
        "outputId": "e0b1f6ed-b337-4d25-b2ec-0b60ee6b8434"
      },
      "execution_count": null,
      "outputs": [
        {
          "output_type": "display_data",
          "data": {
            "text/plain": [
              "<Figure size 432x288 with 4 Axes>"
            ],
            "image/png": "[encoded data removed]"
          },
          "metadata": {
            "needs_background": "light"
          }
        }
      ]
    },
    {
      "cell_type": "code",
      "source": [
        "def find_median(arr):\n",
        "  arr.sort()\n",
        "  x = len(arr)/2\n",
        "  if len(arr)%2==0:\n",
        "    return (arr[len(arr)//2] + arr[len(arr)//2+1]) / 2\n",
        "  else:\n",
        "    return arr[len(arr)//2]\n",
        "\n",
        "def find_mean(arr):\n",
        "  sumo = 0\n",
        "  for i in arr:\n",
        "    sumo += i\n",
        "  return sumo/len(arr)\n",
        "\n",
        "table = [[\"Algorithm\", \"# of Bins\", \"Time (ms)\", \"Median Bin Weight\", \"Mean Bin Weight\"],\n",
        "         [\"Best Fit\", str(int(best_fit[1][0])), str(float(best_fit[2][0])), str(find_median(best_fit[0])), str(find_mean(best_fit[0]))],\n",
        "         [\"First Fit\", str(int(first_fit[1][0])), str(float(first_fit[2][0])), str(find_median(first_fit[0])), str(find_mean(first_fit[0]))],\n",
        "         [\"Sorted Best Fit\", str(int(sorted_best_fit[1][0])), str(float(sorted_best_fit[2][0])), str(find_median(sorted_best_fit[0])), str(find_mean(sorted_best_fit[0]))],\n",
        "         [\"Sorted First Fit\", str(int(sorted_first_fit[1][0])), str(float(sorted_first_fit[2][0])), str(find_median(sorted_first_fit[0])), str(find_mean(sorted_first_fit[0]))]]\n",
        "\n",
        "print(tabulate(table, headers='firstrow'))"
      ],
      "metadata": {
        "colab": {
          "base_uri": "https://localhost:8080/"
        },
        "id": "yQukyZ80ExrO",
        "outputId": "1758fdfc-a7ae-43c3-fa47-e37da1cb532b"
      },
      "execution_count": null,
      "outputs": [
        {
          "output_type": "stream",
          "name": "stdout",
          "text": [
            "Algorithm           # of Bins    Time (ms)    Median Bin Weight    Mean Bin Weight\n",
            "----------------  -----------  -----------  -------------------  -----------------\n",
            "Best Fit                 8284      2035.91             0.907251           0.899225\n",
            "First Fit                8299      1810                0.907431           0.8976\n",
            "Sorted Best Fit          8273      2403.25             0.906967           0.900421\n",
            "Sorted First Fit         8273      2066.61             0.906967           0.900421\n"
          ]
        }
      ]
    },
    {
      "cell_type": "markdown",
      "source": [
        "### Right Tailed Distribution"
      ],
      "metadata": {
        "id": "7dO-fSD3FlwD"
      }
    },
    {
      "cell_type": "code",
      "source": [
        "%cd /content/approx-mini1/right_tailed_10000\n",
        "\n",
        "with open('data.csv', newline = '') as file:\n",
        "    reader = csv.reader(file, quoting = csv.QUOTE_NONNUMERIC)\n",
        "    data = []\n",
        "    for row in reader:\n",
        "        data.append(row[:])\n",
        "\n",
        "plt.hist(data)\n",
        "plt.xlabel(\"Item Sizing\")\n",
        "plt.ylabel(\"Frequency\")\n",
        "plt.title(\"Distribution of Items\")\n",
        "plt.show()"
      ],
      "metadata": {
        "colab": {
          "base_uri": "https://localhost:8080/",
          "height": 313
        },
        "id": "OfkyQ9BAFpFc",
        "outputId": "518c22e1-dcfe-4932-a925-ab630ba2fe24"
      },
      "execution_count": null,
      "outputs": [
        {
          "output_type": "stream",
          "name": "stdout",
          "text": [
            "/content/approx-mini1/right_tailed_10000\n"
          ]
        },
        {
          "output_type": "display_data",
          "data": {
            "text/plain": [
              "<Figure size 432x288 with 1 Axes>"
            ],
            "image/png": "[encoded data removed]"
          },
          "metadata": {
            "needs_background": "light"
          }
        }
      ]
    },
    {
      "cell_type": "code",
      "source": [
        "with open('best_fit.csv', newline = '') as file:\n",
        "    reader = csv.reader(file, quoting = csv.QUOTE_NONNUMERIC)\n",
        "    best_fit = []\n",
        "    for row in reader:\n",
        "      if row[:]:\n",
        "        best_fit.append(row[:])\n",
        "\n",
        "with open('first_fit.csv', newline = '') as file:\n",
        "    reader = csv.reader(file, quoting = csv.QUOTE_NONNUMERIC)\n",
        "    first_fit = []\n",
        "    for row in reader:\n",
        "      if row[:]:\n",
        "        first_fit.append(row[:])\n",
        "\n",
        "with open('sorted_best_fit.csv', newline = '') as file:\n",
        "    reader = csv.reader(file, quoting = csv.QUOTE_NONNUMERIC)\n",
        "    sorted_best_fit = []\n",
        "    for row in reader:\n",
        "      if row[:]:\n",
        "        sorted_best_fit.append(row[:])\n",
        "\n",
        "with open('sorted_first_fit.csv', newline = '') as file:\n",
        "    reader = csv.reader(file, quoting = csv.QUOTE_NONNUMERIC)\n",
        "    sorted_first_fit = []\n",
        "    for row in reader:\n",
        "      if row[:]:\n",
        "        sorted_first_fit.append(row[:])\n",
        "\n",
        "fig, ax = plt.subplots(nrows=2, ncols=2)\n",
        "fig.suptitle(\"Bin Distribution\")\n",
        "\n",
        "ax[0,0].hist(best_fit[0], range=(0, 1))\n",
        "ax[0,0].set_title('Best Fit')\n",
        "ax[0,1].hist(first_fit[0], range=(0, 1))\n",
        "ax[0,1].set_title('First Fit')\n",
        "ax[1,0].hist(sorted_best_fit[0], range=(0, 1))\n",
        "ax[1,0].set_title('Sorted Best Fit')\n",
        "ax[1,1].hist(sorted_first_fit[0], range=(0, 1))\n",
        "ax[1,1].set_title('Sorted First Fit')\n",
        "\n",
        "plt.xlabel(\"Bin Sizing\")\n",
        "plt.ylabel(\"Frequency\")\n",
        "plt.tight_layout()\n",
        "plt.show()"
      ],
      "metadata": {
        "colab": {
          "base_uri": "https://localhost:8080/",
          "height": 302
        },
        "id": "s0nXH_n6FtUI",
        "outputId": "aa18d941-2a35-484b-aff9-116d7f1f37aa"
      },
      "execution_count": null,
      "outputs": [
        {
          "output_type": "display_data",
          "data": {
            "text/plain": [
              "<Figure size 432x288 with 4 Axes>"
            ],
            "image/png": "[encoded data removed]"
          },
          "metadata": {
            "needs_background": "light"
          }
        }
      ]
    },
    {
      "cell_type": "code",
      "source": [
        "def find_median(arr):\n",
        "  arr.sort()\n",
        "  x = len(arr)/2\n",
        "  if len(arr)%2==0:\n",
        "    return (arr[len(arr)//2] + arr[len(arr)//2+1]) / 2\n",
        "  else:\n",
        "    return arr[len(arr)//2]\n",
        "\n",
        "def find_mean(arr):\n",
        "  sumo = 0\n",
        "  for i in arr:\n",
        "    sumo += i\n",
        "  return sumo/len(arr)\n",
        "\n",
        "table = [[\"Algorithm\", \"# of Bins\", \"Time (ms)\", \"Median Bin Weight\", \"Mean Bin Weight\"],\n",
        "         [\"Best Fit\", str(int(best_fit[1][0])), str(float(best_fit[2][0])), str(find_median(best_fit[0])), str(find_mean(best_fit[0]))],\n",
        "         [\"First Fit\", str(int(first_fit[1][0])), str(float(first_fit[2][0])), str(find_median(first_fit[0])), str(find_mean(first_fit[0]))],\n",
        "         [\"Sorted Best Fit\", str(int(sorted_best_fit[1][0])), str(float(sorted_best_fit[2][0])), str(find_median(sorted_best_fit[0])), str(find_mean(sorted_best_fit[0]))],\n",
        "         [\"Sorted First Fit\", str(int(sorted_first_fit[1][0])), str(float(sorted_first_fit[2][0])), str(find_median(sorted_first_fit[0])), str(find_mean(sorted_first_fit[0]))]]\n",
        "\n",
        "print(tabulate(table, headers='firstrow'))"
      ],
      "metadata": {
        "colab": {
          "base_uri": "https://localhost:8080/"
        },
        "id": "6IwzHNkkFvNV",
        "outputId": "ee044457-9b7f-4b94-d9ce-07f3296d7f92"
      },
      "execution_count": null,
      "outputs": [
        {
          "output_type": "stream",
          "name": "stdout",
          "text": [
            "Algorithm           # of Bins    Time (ms)    Median Bin Weight    Mean Bin Weight\n",
            "----------------  -----------  -----------  -------------------  -----------------\n",
            "Best Fit                 2527      595.695             0.999251           0.995672\n",
            "First Fit                2532      562.403             0.99762            0.993706\n",
            "Sorted Best Fit          2517      930.645             0.999965           0.999628\n",
            "Sorted First Fit         2517      812.402             0.99996            0.999628\n"
          ]
        }
      ]
    },
    {
      "cell_type": "markdown",
      "source": [
        "## Analysis"
      ],
      "metadata": {
        "id": "-j4qjd0GUM2X"
      }
    },
    {
      "cell_type": "markdown",
      "source": [
        "First, we'll analyze the performance of each algorithm in terms of the number of bins it used, the amount of time it took to run, and the distribution of the bin sizes. Our results appear to hold regardless of the distribution of the item sizes.\n",
        "\n",
        "### Number of Bins\n",
        "\n",
        "In each of the cases, we see that the sorting algorithms will use roughly the same number of bins and will outperform the algorithms that don't sort. Between the two non-sorted algorithms, best fit performs better, returning a smaller number of bins required.\n",
        "\n",
        "### Speed\n",
        "\n",
        "We see that first fit takes the least amount of time. Either sorted first or best fit is after that. Sorted best fit, across all cases, takes the most amount of time.\n",
        "\n",
        "This makes sense: while first fit stops searching after finding one bin that fits, best fit will seek to optimize across all the bins that fit the current item. This early stopping allows first fit to be faster.\n",
        "\n",
        "### Distribution of Bin Sizes\n",
        "\n",
        "We also checked the distribution of each algorithm and noted that the sorting versions of either algorithm waste less space overall. This is reflected in both the means and medians being higher for those two algorithms.\n",
        "\n",
        "We believe that the reason for the distribution comes down to the order that the bins are filled. In an example that doesn't sort, it's possible that a big item is placed into a bin with a bunch of smaller items, but then two medium sized items come along later that force us to use another bin each. However, one could've been put in the same bin as the big item with the other in the same bin as the smaller items. By sorting in decreasing order, this problem is solved."
      ],
      "metadata": {
        "id": "_OFL1N6iUToc"
      }
    }
  ]
}