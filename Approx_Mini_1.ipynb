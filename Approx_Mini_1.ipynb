{
  "nbformat": 4,
  "nbformat_minor": 0,
  "metadata": {
    "colab": {
      "provenance": [],
      "include_colab_link": true
    },
    "kernelspec": {
      "name": "python3",
      "display_name": "Python 3"
    },
    "language_info": {
      "name": "python"
    }
  },
  "cells": [
    {
      "cell_type": "markdown",
      "metadata": {
        "id": "view-in-github",
        "colab_type": "text"
      },
      "source": [
        "<a href=\"https://colab.research.google.com/github/derexwangmang/approx-mini1/blob/main/Approx_Mini_1.ipynb\" target=\"_parent\"><img src=\"https://colab.research.google.com/assets/colab-badge.svg\" alt=\"Open In Colab\"/></a>"
      ]
    },
    {
      "cell_type": "code",
      "execution_count": 26,
      "metadata": {
        "colab": {
          "base_uri": "https://localhost:8080/"
        },
        "id": "3RAOnq_6RFxx",
        "outputId": "3d5ef294-ada8-4d31-bbad-ed44b99517bb"
      },
      "outputs": [
        {
          "output_type": "stream",
          "name": "stdout",
          "text": [
            "/content\n",
            "Cloning into 'approx-mini1'...\n",
            "remote: Enumerating objects: 82, done.\u001b[K\n",
            "remote: Counting objects: 100% (82/82), done.\u001b[K\n",
            "remote: Compressing objects: 100% (68/68), done.\u001b[K\n",
            "remote: Total 82 (delta 14), reused 81 (delta 13), pack-reused 0\u001b[K\n",
            "Unpacking objects: 100% (82/82), 91.98 KiB | 3.54 MiB/s, done.\n"
          ]
        }
      ],
      "source": [
        "# helper code from the course repository\n",
        "%cd /content\n",
        "!rm -r approx-mini1\n",
        "\n",
        "!cd /content && git clone https://github.com/derexwangmang/approx-mini1"
      ]
    },
    {
      "cell_type": "code",
      "source": [
        "# this \"magic\" command makes graphics produced by matplotlib appear in the notebook.\n",
        "%matplotlib inline\n",
        "\n",
        "# make sure we're in the right directory\n",
        "%cd /content/\n",
        "\n",
        "import csv\n",
        "import matplotlib.pyplot as plt"
      ],
      "metadata": {
        "colab": {
          "base_uri": "https://localhost:8080/"
        },
        "id": "YarJlOyeUsk5",
        "outputId": "7fef4a6b-a01d-4597-d68a-e8f8d0ca5cb1"
      },
      "execution_count": 27,
      "outputs": [
        {
          "output_type": "stream",
          "name": "stdout",
          "text": [
            "/content\n"
          ]
        }
      ]
    },
    {
      "cell_type": "markdown",
      "source": [
        "# Graphs"
      ],
      "metadata": {
        "id": "4xhDqbFyUR8y"
      }
    },
    {
      "cell_type": "code",
      "source": [
        "%cd /content/approx-mini1/1000\n",
        "\n",
        "with open('data.csv', newline = '') as file:\n",
        "    reader = csv.reader(file, quoting = csv.QUOTE_NONNUMERIC)\n",
        "    data = []\n",
        "    for row in reader:\n",
        "        data.append(row[:])\n",
        "\n",
        "plt.hist(data)\n",
        "plt.xlabel(\"Item Sizing\")\n",
        "plt.ylabel(\"Frequency\")\n",
        "plt.show()"
      ],
      "metadata": {
        "colab": {
          "base_uri": "https://localhost:8080/",
          "height": 296
        },
        "id": "BtB0fRyeUnr4",
        "outputId": "27343e23-b5b2-4b6d-abe4-fc40b63b6696"
      },
      "execution_count": 28,
      "outputs": [
        {
          "output_type": "stream",
          "name": "stdout",
          "text": [
            "/content/approx-mini1/1000\n"
          ]
        },
        {
          "output_type": "display_data",
          "data": {
            "text/plain": [
              "<Figure size 432x288 with 1 Axes>"
            ],
            "image/png": "[encoded data removed]"
          },
          "metadata": {
            "needs_background": "light"
          }
        }
      ]
    },
    {
      "cell_type": "code",
      "source": [
        "with open('best_fit.csv', newline = '') as file:\n",
        "    reader = csv.reader(file, quoting = csv.QUOTE_NONNUMERIC)\n",
        "    best_fit = []\n",
        "    for row in reader:\n",
        "      if row[:]:\n",
        "        best_fit.append(row[:])\n",
        "\n",
        "with open('first_fit.csv', newline = '') as file:\n",
        "    reader = csv.reader(file, quoting = csv.QUOTE_NONNUMERIC)\n",
        "    first_fit = []\n",
        "    for row in reader:\n",
        "      if row[:]:\n",
        "        first_fit.append(row[:])\n",
        "\n",
        "with open('sorted_best_fit.csv', newline = '') as file:\n",
        "    reader = csv.reader(file, quoting = csv.QUOTE_NONNUMERIC)\n",
        "    sorted_best_fit = []\n",
        "    for row in reader:\n",
        "      if row[:]:\n",
        "        sorted_best_fit.append(row[:])\n",
        "\n",
        "with open('sorted_first_fit.csv', newline = '') as file:\n",
        "    reader = csv.reader(file, quoting = csv.QUOTE_NONNUMERIC)\n",
        "    sorted_first_fit = []\n",
        "    for row in reader:\n",
        "      if row[:]:\n",
        "        sorted_first_fit.append(row[:])\n",
        "\n",
        "fig, ax = plt.subplots(nrows=2, ncols=2)\n",
        "\n",
        "ax[0,0].hist(best_fit[0], range=(0, 1))\n",
        "ax[0,0].set_title('Best Fit')\n",
        "ax[0,1].hist(first_fit[0], range=(0, 1))\n",
        "ax[0,1].set_title('First Fit')\n",
        "ax[1,0].hist(sorted_best_fit[0], range=(0, 1))\n",
        "ax[1,0].set_title('Sorted Best Fit')\n",
        "ax[1,1].hist(sorted_first_fit[0], range=(0, 1))\n",
        "ax[1,1].set_title('Sorted First Fit')\n",
        "\n",
        "\n",
        "# plt.hist(best_fit[0], range=[0, 1])\n",
        "plt.xlabel(\"Bin Sizing\")\n",
        "plt.ylabel(\"Frequency\")\n",
        "plt.tight_layout()\n",
        "plt.show()"
      ],
      "metadata": {
        "colab": {
          "base_uri": "https://localhost:8080/",
          "height": 314
        },
        "id": "2n25H20acDkB",
        "outputId": "7ae0c2b7-c57c-4f7d-8b2a-822c79fd92c4"
      },
      "execution_count": 30,
      "outputs": [
        {
          "output_type": "display_data",
          "data": {
            "text/plain": [
              "<Figure size 432x288 with 4 Axes>"
            ],
            "image/png": "[encoded data removed]"
          },
          "metadata": {
            "needs_background": "light"
          }
        },
        {
          "output_type": "stream",
          "name": "stdout",
          "text": [
            "[47.87278175354004]\n"
          ]
        }
      ]
    },
    {
      "cell_type": "code",
      "source": [
        "def print_res(title, datum):\n",
        "  print(\"It took\", str(int(datum[1][0])),  \"bins for the\", str(title), \"algorithm's solution, the algorithm took\", str(float(datum[2][0])), \"milliseconds to run.\")\n",
        "\n",
        "print_res(\"Best Fit\", best_fit)\n",
        "print_res(\"First Fit\", first_fit)\n",
        "print_res(\"Sorted Best Fit\", sorted_best_fit)\n",
        "print_res(\"Sorted First Fit\", sorted_first_fit)"
      ],
      "metadata": {
        "id": "MJzfdWYDfSu9",
        "colab": {
          "base_uri": "https://localhost:8080/"
        },
        "outputId": "2aac5362-9200-49e1-a575-d0b01d7324f0"
      },
      "execution_count": 37,
      "outputs": [
        {
          "output_type": "stream",
          "name": "stdout",
          "text": [
            "It took 527 bins for the Best Fit algorithm's solution, the algorithm took 47.87278175354004 milliseconds to run.\n",
            "It took 532 bins for the First Fit algorithm's solution, the algorithm took 39.89076614379883 milliseconds to run.\n",
            "It took 514 bins for the Sorted Best Fit algorithm's solution, the algorithm took 92.78678894042969 milliseconds to run.\n",
            "It took 514 bins for the Sorted First Fit algorithm's solution, the algorithm took 44.87895965576172 milliseconds to run.\n"
          ]
        }
      ]
    },
    {
      "cell_type": "markdown",
      "source": [],
      "metadata": {
        "id": "juVLIfngUm4Q"
      }
    },
    {
      "cell_type": "markdown",
      "source": [
        "# Analysis"
      ],
      "metadata": {
        "id": "-j4qjd0GUM2X"
      }
    },
    {
      "cell_type": "markdown",
      "source": [],
      "metadata": {
        "id": "_OFL1N6iUToc"
      }
    }
  ]
}